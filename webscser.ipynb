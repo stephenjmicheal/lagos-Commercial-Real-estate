{
 "cells": [
  {
   "cell_type": "markdown",
   "id": "3aa171d1-8409-416e-b0c9-134adf6055c1",
   "metadata": {},
   "source": [
    "# Webscraping Service Charge fee of Properties in Lagos"
   ]
  },
  {
   "cell_type": "markdown",
   "id": "afb97369-e95f-4edc-a8d4-cd44c3349329",
   "metadata": {},
   "source": [
    "## Objective\n",
    "Web Scraping Service Charges of commercial properties in the Four cities"
   ]
  },
  {
   "cell_type": "code",
   "execution_count": 5,
   "id": "30397010-27a6-4a99-a2e0-46d6c8ab1272",
   "metadata": {},
   "outputs": [],
   "source": [
    "#Import required libraries\n",
    "import requests\n",
    "import pandas as pd\n",
    "from bs4 import BeautifulSoup"
   ]
  },
  {
   "cell_type": "code",
   "execution_count": 6,
   "id": "4d6b8f07-8173-47ce-a3c1-e1eef59bd1ca",
   "metadata": {},
   "outputs": [],
   "source": [
    "#define function to fetch and parse the page\n",
    "def get_soup(url):\n",
    "    response=requests.get(url)\n",
    "    if response.status_code ==200:\n",
    "        soup=BeautifulSoup(response.content,'html.parser')\n",
    "        return soup\n",
    "    else:\n",
    "        print (f'failed to fetch the code, status code is: {response.status_code}')\n",
    "        return None\n"
   ]
  },
  {
   "cell_type": "code",
   "execution_count": 33,
   "id": "b5fb73d4-410f-469c-9381-28d4d0510418",
   "metadata": {},
   "outputs": [],
   "source": [
    "#define function to scrape Price and Address data\n",
    "def scrape_property_info(url):\n",
    "    soup=get_soup(url)\n",
    "    \n",
    "    # Extract price,address and description information \n",
    "    if soup is not None:\n",
    "        desc = [element.text for element in soup.find_all('div',  itemprop=\"description\")]\n",
    "        \n",
    "        #Return the scraped data \n",
    "        return desc\n",
    "    else:\n",
    "        print(f'failed to receive data from{url}')\n",
    "        return [],[],[]\n",
    "    \n",
    "#scraping details for lekki\n",
    "\n",
    "#define base url\n",
    "base_url='https://nigeriapropertycentre.com/for-rent/commercial/offices/lagos/lekki/showtype'\n",
    "\n",
    "#define number of pages to scrape\n",
    "num_pages =11\n",
    "\n",
    "#lists to store data=\n",
    "all_ldesc=[]\n",
    " \n",
    "# Loop to automate scraping multiple pages\n",
    "for page_num in range(1, num_pages + 1):\n",
    "    page_url = f'{base_url}?page={page_num}'  # Assuming the URL structure includes pagination\n",
    "    desc= scrape_property_info(page_url)\n",
    "\n",
    "    # Append data from each page to the master lists\n",
    "    all_ldesc.extend(desc)\n",
    "    \n"
   ]
  },
  {
   "cell_type": "code",
   "execution_count": 35,
   "id": "0d8c929f-d6cf-4998-8906-b6b6db3480e0",
   "metadata": {},
   "outputs": [],
   "source": [
    "path=('ldesc.csv')\n",
    "ap=pd.DataFrame(all_ldesc)\n",
    "ap.to_csv(path)"
   ]
  },
  {
   "cell_type": "code",
   "execution_count": 37,
   "id": "85864c0e-9e02-4ed1-a6ef-625e8584920d",
   "metadata": {},
   "outputs": [],
   "source": [
    "#scraping details for victoria island\n",
    "\n",
    "base_url='https://nigeriapropertycentre.com/for-rent/commercial/serviced/lagos/victoria-island?selectedLoc=1&q=for-rent+commercial+serviced+lagos+victoria-island'\n",
    "\n",
    "#define number of pages to scrape\n",
    "num_pages =7\n",
    "\n",
    "#lists to store data=\n",
    "all_vdesc=[]\n",
    " \n",
    "# Loop to automate scraping multiple pages\n",
    "for page_num in range(1, num_pages + 1):\n",
    "    page_url = f'{base_url}?page={page_num}'  # Assuming the URL structure includes pagination\n",
    "    desc= scrape_property_info(page_url)\n",
    "\n",
    "    # Append data from each page to the master lists\n",
    "    all_vdesc.extend(desc)\n",
    "    "
   ]
  },
  {
   "cell_type": "code",
   "execution_count": 38,
   "id": "ab581abb-85b4-4ead-9244-3b35232baf5c",
   "metadata": {},
   "outputs": [],
   "source": [
    "path=('vdesc.csv')\n",
    "ap=pd.DataFrame(all_vdesc)\n",
    "ap.to_csv(path)"
   ]
  },
  {
   "cell_type": "code",
   "execution_count": 39,
   "id": "974f36fa-e212-4494-ab83-65ba50b40f26",
   "metadata": {},
   "outputs": [],
   "source": [
    "#Scraping details for Ikoyi\n",
    "\n",
    "base_url='https://nigeriapropertycentre.com/for-rent/commercial/serviced/lagos/ikoyi?selectedLoc=1&q=for-rent+commercial+serviced+lagos+ikoyi'\n",
    "\n",
    "#define number of pages to scrape\n",
    "num_pages =2\n",
    "\n",
    "#lists to store data=\n",
    "all_ikdesc=[]\n",
    " \n",
    "# Loop to automate scraping multiple pages\n",
    "for page_num in range(1, num_pages + 1):\n",
    "    page_url = f'{base_url}?page={page_num}'  # Assuming the URL structure includes pagination\n",
    "    desc= scrape_property_info(page_url)\n",
    "\n",
    "    # Append data from each page to the master lists\n",
    "    all_ikdesc.extend(desc)"
   ]
  },
  {
   "cell_type": "code",
   "execution_count": 40,
   "id": "b5edf3d4-b4f3-48de-adfb-530c7b5de74b",
   "metadata": {},
   "outputs": [],
   "source": [
    "path=('ikdesc.csv')\n",
    "ap=pd.DataFrame(all_ikdesc)\n",
    "ap.to_csv(path)"
   ]
  },
  {
   "cell_type": "code",
   "execution_count": 42,
   "id": "7412c0ef-0744-411f-953f-f62612047da0",
   "metadata": {},
   "outputs": [],
   "source": [
    "#Scraping details for Ikeja\n",
    "\n",
    "base_url='https://nigeriapropertycentre.com/for-rent/commercial/serviced/lagos/ikeja?selectedLoc=1&q=for-rent+commercial+serviced+lagos+ikeja'\n",
    "\n",
    "#define number of pages to scrape\n",
    "num_pages =6\n",
    "\n",
    "#lists to store data=\n",
    "all_idesc=[]\n",
    " \n",
    "# Loop to automate scraping multiple pages\n",
    "for page_num in range(1, num_pages + 1):\n",
    "    page_url = f'{base_url}?page={page_num}'  # Assuming the URL structure includes pagination\n",
    "    desc= scrape_property_info(page_url)\n",
    "\n",
    "    # Append data from each page to the master lists\n",
    "    all_idesc.extend(desc)"
   ]
  },
  {
   "cell_type": "code",
   "execution_count": 43,
   "id": "2362e9cc-5487-4126-8539-11c495be9278",
   "metadata": {},
   "outputs": [],
   "source": [
    "path=('idesc.csv')\n",
    "ap=pd.DataFrame(all_ikdesc)\n",
    "ap.to_csv(path)"
   ]
  },
  {
   "cell_type": "code",
   "execution_count": null,
   "id": "5bd6517f-9da7-4766-b685-1bafd2a81e85",
   "metadata": {},
   "outputs": [],
   "source": [
    "### Author\n",
    "#### [Micheal Stephen]('https://www.linkedin.com/in/stephen-micheal-19638b254/')\n",
    "\n",
    "14/10/2023"
   ]
  }
 ],
 "metadata": {
  "kernelspec": {
   "display_name": "Python 3 (ipykernel)",
   "language": "python",
   "name": "python3"
  },
  "language_info": {
   "codemirror_mode": {
    "name": "ipython",
    "version": 3
   },
   "file_extension": ".py",
   "mimetype": "text/x-python",
   "name": "python",
   "nbconvert_exporter": "python",
   "pygments_lexer": "ipython3",
   "version": "3.9.13"
  }
 },
 "nbformat": 4,
 "nbformat_minor": 5
}
