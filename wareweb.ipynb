{
 "cells": [
  {
   "cell_type": "markdown",
   "id": "4e0c7f8a-5135-41ac-81a0-985a2ca2dd7c",
   "metadata": {},
   "source": [
    "# Web Scraping Warehouse Rent Prices in Lagos"
   ]
  },
  {
   "cell_type": "markdown",
   "id": "6947a944-c4b8-4efb-965c-f29e8600314c",
   "metadata": {},
   "source": [
    "## Objective"
   ]
  },
  {
   "cell_type": "code",
   "execution_count": null,
   "id": "65536a72-008a-4cef-8fb6-9f84a784efb4",
   "metadata": {},
   "outputs": [],
   "source": []
  },
  {
   "cell_type": "code",
   "execution_count": 3,
   "id": "ed6bb285-2c36-4921-b1ba-52a5f4983cc1",
   "metadata": {},
   "outputs": [],
   "source": [
    "#Import required libraries\n",
    "import requests\n",
    "import pandas as pd\n",
    "from bs4 import BeautifulSoup"
   ]
  },
  {
   "cell_type": "code",
   "execution_count": 4,
   "id": "00e80ab1-a31a-45ed-becd-f7a66f502d0e",
   "metadata": {},
   "outputs": [],
   "source": [
    "#define function to fetch and parse the page\n",
    "def get_soup(url):\n",
    "    response=requests.get(url)\n",
    "    if response.status_code ==200:\n",
    "        soup=BeautifulSoup(response.content,'html.parser')\n",
    "        return soup\n",
    "    else:\n",
    "        print (f'failed to fetch the code, status code is: {response.status_code}')\n",
    "        return None\n"
   ]
  },
  {
   "cell_type": "code",
   "execution_count": 29,
   "id": "258dea23-8b59-4320-8b05-bc3a4bbb03da",
   "metadata": {},
   "outputs": [],
   "source": [
    "#define function to scrape Price and Address data\n",
    "def scrape_property_info(url):\n",
    "    soup=get_soup(url)\n",
    "    \n",
    "    # Extract price,address and description information \n",
    "    if soup is not None:\n",
    "        prices = [element.text for element in soup.find_all('span', class_='price')]\n",
    "        address= [element.text for element in soup.find_all('address', class_= 'voffset-bottom-10')]\n",
    "        description=[element.text for element in soup.find_all('h3', itemprop='name')]\n",
    "        \n",
    "        #Return the scraped data as lists\n",
    "        return prices, address, description\n",
    "    else:\n",
    "        print(f'failed to receive data from{url}')\n",
    "        return [],[],[]\n",
    "    \n",
    "\n",
    "# Define the URL of the website\n",
    "base_url = 'https://nigeriapropertycentre.com/for-rent/commercial/warehouses/lagos/ikeja/showtype'\n",
    "\n",
    "#define number of pages to scrape\n",
    "num_pages = 7\n",
    "\n",
    "#lists to store data=\n",
    "all_prices=[]\n",
    "all_address=[]\n",
    "all_description=[]\n",
    "\n",
    "# Loop to automate scraping multiple pages\n",
    "for page_num in range(1, num_pages + 1):\n",
    "    page_url = f'{base_url}?page={page_num}'  # Assuming the URL structure includes pagination\n",
    "    prices, addresses, description = scrape_property_info(page_url)\n",
    "\n",
    "    # Append data from each page to the master lists\n",
    "    all_prices.extend(prices)\n",
    "    all_address.extend(addresses)\n",
    "    all_description.extend(description)\n"
   ]
  },
  {
   "cell_type": "code",
   "execution_count": 31,
   "id": "f5eb2dd7-a73c-4441-b5e8-338479e38913",
   "metadata": {},
   "outputs": [],
   "source": [
    "path=('whprices.csv')\n",
    "ap=pd.DataFrame(all_prices)\n",
    "ap.to_csv(path)\n",
    "\n",
    "path=('whadd.csv')\n",
    "ap=pd.DataFrame(all_address)\n",
    "ap.to_csv(path)\n",
    "\n",
    "path=('whdes.csv')\n",
    "ap=pd.DataFrame(all_description)\n",
    "ap.to_csv(path)\n"
   ]
  },
  {
   "cell_type": "code",
   "execution_count": null,
   "id": "97b784f4-f5b9-4777-b9b7-bf230ba44e03",
   "metadata": {},
   "outputs": [],
   "source": []
  }
 ],
 "metadata": {
  "kernelspec": {
   "display_name": "Python 3 (ipykernel)",
   "language": "python",
   "name": "python3"
  },
  "language_info": {
   "codemirror_mode": {
    "name": "ipython",
    "version": 3
   },
   "file_extension": ".py",
   "mimetype": "text/x-python",
   "name": "python",
   "nbconvert_exporter": "python",
   "pygments_lexer": "ipython3",
   "version": "3.9.13"
  }
 },
 "nbformat": 4,
 "nbformat_minor": 5
}
